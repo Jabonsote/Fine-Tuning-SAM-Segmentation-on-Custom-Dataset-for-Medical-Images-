{
  "nbformat": 4,
  "nbformat_minor": 0,
  "metadata": {
    "colab": {
      "provenance": []
    },
    "kernelspec": {
      "name": "python3",
      "display_name": "Python 3"
    },
    "language_info": {
      "name": "python"
    }
  },
  "cells": [
    {
      "cell_type": "code",
      "source": [
        "from google.colab import drive\n",
        "drive.mount('/content/drive')"
      ],
      "metadata": {
        "colab": {
          "base_uri": "https://localhost:8080/"
        },
        "id": "wvt1zZb5tE6E",
        "outputId": "86917e55-50a5-4985-c12b-df1390c2a2b3"
      },
      "execution_count": null,
      "outputs": [
        {
          "output_type": "stream",
          "name": "stdout",
          "text": [
            "Mounted at /content/drive\n"
          ]
        }
      ]
    },
    {
      "cell_type": "markdown",
      "source": [
        "# Convert COCO dataset to SAM format"
      ],
      "metadata": {
        "id": "824jtju_0Lcz"
      }
    },
    {
      "cell_type": "code",
      "source": [
        "# Asegúrate de instalar las bibliotecas necesarias\n",
        "!pip install opencv-python-headless pillow pycocotools\n",
        "\n",
        "import json\n",
        "import os\n",
        "import shutil\n",
        "import numpy as np\n",
        "import pandas as pd\n",
        "from PIL import Image\n",
        "from pycocotools.coco import COCO\n",
        "from pycocotools import mask as maskUtils\n",
        "from google.colab import files\n",
        "\n",
        "# Crear carpetas para guardar las imágenes y las máscaras\n",
        "os.makedirs('Breast/images', exist_ok=True)\n",
        "os.makedirs('Breast/masks', exist_ok=True)\n",
        "\n",
        "def process_annotations(json_file, img_dir, csv_file):\n",
        "    # Cargar el archivo JSON de COCO\n",
        "    coco = COCO(json_file)\n",
        "\n",
        "    data = []\n",
        "\n",
        "    # Procesar las anotaciones y generar las máscaras\n",
        "    for img_id in coco.getImgIds():\n",
        "        img_info = coco.loadImgs(img_id)[0]\n",
        "        img_path = os.path.join(img_dir, img_info['file_name'])\n",
        "        image = Image.open(img_path).convert(\"RGB\")\n",
        "\n",
        "        # Copiar la imagen a la carpeta 'Breast/images'\n",
        "        new_img_path = f'Breast/images/{img_info[\"file_name\"]}'\n",
        "        shutil.copy(img_path, new_img_path)\n",
        "\n",
        "        # Crear una máscara vacía con el mismo tamaño que la imagen\n",
        "        mask = np.zeros((img_info['height'], img_info['width']), dtype=np.uint8)\n",
        "\n",
        "        # Obtener las anotaciones para la imagen\n",
        "        ann_ids = coco.getAnnIds(imgIds=img_id)\n",
        "        anns = coco.loadAnns(ann_ids)\n",
        "\n",
        "        for ann in anns:\n",
        "            if 'segmentation' in ann:\n",
        "                rle = coco.annToRLE(ann)\n",
        "                decoded_mask = maskUtils.decode(rle)\n",
        "                mask = np.maximum(mask, decoded_mask)\n",
        "\n",
        "        # Convertir la máscara a una imagen binaria (blanco y negro)\n",
        "        mask = (mask > 0).astype(np.uint8) * 255\n",
        "\n",
        "        # Guardar la máscara en la carpeta 'Breast/masks'\n",
        "        mask_img = Image.fromarray(mask)\n",
        "        mask_filename = os.path.splitext(img_info['file_name'])[0] + '.png'\n",
        "        mask_path = f'Breast/masks/{mask_filename}'\n",
        "        mask_img.save(mask_path)\n",
        "\n",
        "        # Agregar las rutas al DataFrame\n",
        "        data.append([new_img_path, f'/{mask_path}'])\n",
        "\n",
        "    # Guardar las rutas en un archivo CSV sin cabeceras\n",
        "    df = pd.DataFrame(data)\n",
        "    df.to_csv(csv_file, index=False, header=False)\n",
        "\n",
        "# Procesar las anotaciones de train y val y generar los CSV\n",
        "process_annotations('/content/drive/MyDrive/1data/data/train.json', '/content/drive/MyDrive/1data/data/train', 'train.csv')\n",
        "process_annotations('/content/drive/MyDrive/1data/data/valid.json', '/content/drive/MyDrive/1data/data/valid', 'valid.csv')\n",
        "\n",
        "print(\"Conversión completa y archivos CSV generados.\")\n"
      ],
      "metadata": {
        "colab": {
          "base_uri": "https://localhost:8080/"
        },
        "id": "wutb3nNM0Mq4",
        "outputId": "04598881-dce1-4777-ccdc-7b62fd338aa5"
      },
      "execution_count": null,
      "outputs": [
        {
          "output_type": "stream",
          "name": "stdout",
          "text": [
            "Requirement already satisfied: opencv-python-headless in /usr/local/lib/python3.10/dist-packages (4.9.0.80)\n",
            "Requirement already satisfied: pillow in /usr/local/lib/python3.10/dist-packages (9.4.0)\n",
            "Requirement already satisfied: pycocotools in /usr/local/lib/python3.10/dist-packages (2.0.7)\n",
            "Requirement already satisfied: numpy>=1.21.2 in /usr/local/lib/python3.10/dist-packages (from opencv-python-headless) (1.25.2)\n",
            "Requirement already satisfied: matplotlib>=2.1.0 in /usr/local/lib/python3.10/dist-packages (from pycocotools) (3.7.1)\n",
            "Requirement already satisfied: contourpy>=1.0.1 in /usr/local/lib/python3.10/dist-packages (from matplotlib>=2.1.0->pycocotools) (1.2.1)\n",
            "Requirement already satisfied: cycler>=0.10 in /usr/local/lib/python3.10/dist-packages (from matplotlib>=2.1.0->pycocotools) (0.12.1)\n",
            "Requirement already satisfied: fonttools>=4.22.0 in /usr/local/lib/python3.10/dist-packages (from matplotlib>=2.1.0->pycocotools) (4.51.0)\n",
            "Requirement already satisfied: kiwisolver>=1.0.1 in /usr/local/lib/python3.10/dist-packages (from matplotlib>=2.1.0->pycocotools) (1.4.5)\n",
            "Requirement already satisfied: packaging>=20.0 in /usr/local/lib/python3.10/dist-packages (from matplotlib>=2.1.0->pycocotools) (24.0)\n",
            "Requirement already satisfied: pyparsing>=2.3.1 in /usr/local/lib/python3.10/dist-packages (from matplotlib>=2.1.0->pycocotools) (3.1.2)\n",
            "Requirement already satisfied: python-dateutil>=2.7 in /usr/local/lib/python3.10/dist-packages (from matplotlib>=2.1.0->pycocotools) (2.8.2)\n",
            "Requirement already satisfied: six>=1.5 in /usr/local/lib/python3.10/dist-packages (from python-dateutil>=2.7->matplotlib>=2.1.0->pycocotools) (1.16.0)\n",
            "loading annotations into memory...\n",
            "Done (t=0.01s)\n",
            "creating index...\n",
            "index created!\n",
            "loading annotations into memory...\n",
            "Done (t=0.00s)\n",
            "creating index...\n",
            "index created!\n",
            "Conversión completa y archivos CSV generados.\n"
          ]
        }
      ]
    },
    {
      "cell_type": "markdown",
      "source": [
        "# If you are in collab"
      ],
      "metadata": {
        "id": "PnP_JL-AyoFI"
      }
    },
    {
      "cell_type": "code",
      "source": [
        "import shutil\n",
        "import os\n",
        "\n",
        "# Ruta de la carpeta que deseas comprimir\n",
        "folder_to_compress = '/content/Breast'\n",
        "# Nombre del archivo ZIP de salida\n",
        "output_zip_file = '/content/Breast.zip'\n",
        "\n",
        "# Comprimir la carpeta\n",
        "shutil.make_archive(output_zip_file.replace('.zip', ''), 'zip', folder_to_compress)\n",
        "\n",
        "print(f'Carpeta comprimida en: {output_zip_file}')\n"
      ],
      "metadata": {
        "colab": {
          "base_uri": "https://localhost:8080/"
        },
        "id": "ECWnea9v1Q9O",
        "outputId": "004e3042-1559-44f0-ea86-c8e7e4cf6620"
      },
      "execution_count": null,
      "outputs": [
        {
          "output_type": "stream",
          "name": "stdout",
          "text": [
            "Carpeta comprimida en: /content/Breast.zip\n"
          ]
        }
      ]
    },
    {
      "cell_type": "code",
      "source": [
        "from google.colab import files\n",
        "\n",
        "# Descargar el archivo ZIP\n",
        "files.download(output_zip_file)\n"
      ],
      "metadata": {
        "colab": {
          "base_uri": "https://localhost:8080/",
          "height": 17
        },
        "id": "AGG1Dfob1393",
        "outputId": "677a4bac-d87c-4e3b-8893-8ce845747c6f"
      },
      "execution_count": null,
      "outputs": [
        {
          "output_type": "display_data",
          "data": {
            "text/plain": [
              "<IPython.core.display.Javascript object>"
            ],
            "application/javascript": [
              "\n",
              "    async function download(id, filename, size) {\n",
              "      if (!google.colab.kernel.accessAllowed) {\n",
              "        return;\n",
              "      }\n",
              "      const div = document.createElement('div');\n",
              "      const label = document.createElement('label');\n",
              "      label.textContent = `Downloading \"${filename}\": `;\n",
              "      div.appendChild(label);\n",
              "      const progress = document.createElement('progress');\n",
              "      progress.max = size;\n",
              "      div.appendChild(progress);\n",
              "      document.body.appendChild(div);\n",
              "\n",
              "      const buffers = [];\n",
              "      let downloaded = 0;\n",
              "\n",
              "      const channel = await google.colab.kernel.comms.open(id);\n",
              "      // Send a message to notify the kernel that we're ready.\n",
              "      channel.send({})\n",
              "\n",
              "      for await (const message of channel.messages) {\n",
              "        // Send a message to notify the kernel that we're ready.\n",
              "        channel.send({})\n",
              "        if (message.buffers) {\n",
              "          for (const buffer of message.buffers) {\n",
              "            buffers.push(buffer);\n",
              "            downloaded += buffer.byteLength;\n",
              "            progress.value = downloaded;\n",
              "          }\n",
              "        }\n",
              "      }\n",
              "      const blob = new Blob(buffers, {type: 'application/binary'});\n",
              "      const a = document.createElement('a');\n",
              "      a.href = window.URL.createObjectURL(blob);\n",
              "      a.download = filename;\n",
              "      div.appendChild(a);\n",
              "      a.click();\n",
              "      div.remove();\n",
              "    }\n",
              "  "
            ]
          },
          "metadata": {}
        },
        {
          "output_type": "display_data",
          "data": {
            "text/plain": [
              "<IPython.core.display.Javascript object>"
            ],
            "application/javascript": [
              "download(\"download_1da73c1c-a93a-4d4d-b3a4-16cf552d87f3\", \"Breast.zip\", 3820522)"
            ]
          },
          "metadata": {}
        }
      ]
    },
    {
      "cell_type": "code",
      "source": [],
      "metadata": {
        "id": "z0W1FOKD1717"
      },
      "execution_count": null,
      "outputs": []
    }
  ]
}